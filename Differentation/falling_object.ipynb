{
 "cells": [
  {
   "cell_type": "markdown",
   "metadata": {},
   "source": [
    "# Falling object with air resistance\n",
    "Consider the motion of a falling object with mass $m$ near the surface of the Eart when the air resistance varies liearly with the speed. $F_{d} = -b v$. By integrating Newton's law $F = m a$ we obtain the following expression for the position $y(t)$ of the object as a function of the elapsed time $t$:\n",
    "$$y(t) = y_{0} + \\frac{m g}{b}t + (\\frac{m^2g}{b^2} - \\frac{mv_0}{b})(e^{-\\frac{b t}{m}}-1)$$\n",
    "where $y_{0}$ is the initial position, $v_{0}$ is the initial speed, $g$ is the acceleration due to gravity.\n",
    "\n",
    "(a) Find the analytical expressions for the velocity $v(t)$ and the acceleration $a(t)$, both by hand and using SymPy\n",
    "\n",
    "(b) Use reasonable values of the parameters $y_{0}$, $v_{0}$, $m$, $b$, $g$ to plot $x(t)$, $v(t)$ and $a(t)$ and discuss the physical meaning of the results."
   ]
  },
  {
   "cell_type": "markdown",
   "metadata": {},
   "source": [
    "(a)\n",
    "The velocity is the derivative of the position with respect to time:\n",
    "$$v(t) = \\frac{dx}{dt}$$\n",
    "$$\\frac{d}{dt}(y_0) = 0$$\n",
    "$$\\frac{d}{dt}(\\frac{m g}{b}t) = \\frac{m g}{b}$$\n",
    "$$\\frac{d}{dt}(\\frac{m^2g}{b^2} - \\frac{mv_0}{b})(e^{-\\frac{b t}{m}}-1) = (\\frac{m^2g}{b^2} - \\frac{mv_0}{b})(-\\frac{b}{m}e^{-\\frac{b t}{m}})$$\n",
    "$$v(t) = \\frac{m g}{b} + (\\frac{m^2g}{b^2} - \\frac{mv_0}{b})(-\\frac{b}{m}e^{-\\frac{b t}{m}})$$\n",
    "$$a(t) = \\frac{dv}{dt}$$\n",
    "$$a(t) = 0 + (\\frac{m^2g}{b^2} - \\frac{mv_0}{b})(-\\frac{b}{m}e^{-\\frac{b t}{m}})(-\\frac{b}{m})$$\n",
    "$$a(t) = (\\frac{m^2g}{b^2} - \\frac{mv_0}{b})(\\frac{b^2}{m^2}e^{-\\frac{b t}{m}})$$\n",
    "$$a(t) = (g-\\frac{b v_0}{m})e^{-\\frac{b t}{m}}$$"
   ]
  },
  {
   "cell_type": "code",
   "execution_count": 1,
   "metadata": {},
   "outputs": [
    {
     "name": "stdout",
     "output_type": "stream",
     "text": [
      "v(t) (b*v0 + g*m*exp(b*t/m) - g*m)*exp(-b*t/m)/b\n",
      "a(t) (-b*v0 + g*m)*exp(-b*t/m)/m\n"
     ]
    },
    {
     "data": {
      "image/png": "[encoded data removed]",
      "text/plain": [
       "<Figure size 640x480 with 2 Axes>"
      ]
     },
     "metadata": {},
     "output_type": "display_data"
    }
   ],
   "source": [
    "from sympy import symbols, exp, diff, simplify\n",
    "import numpy as np\n",
    "import matplotlib.pyplot as plt\n",
    "\n",
    "t, y0, m, v0, b, g = symbols('t,y0,m,v0,b,g', real=True)\n",
    "\n",
    "v = diff(y0+m*g*t/b+(m**2*g/b**2-m*v0/b)*(exp(-b*t/m)-1),t)\n",
    "print('v(t)', simplify(v))\n",
    "\n",
    "a = diff(v, t)\n",
    "print('a(t)', simplify(a))\n",
    "\n",
    "b, m, g, v0, y0 = 1.0, 1, 9.8, 0, 0\n",
    "\n",
    "tims = np.linspace(0, 7, 50)\n",
    "\n",
    "yt = y0 + m*g*tims/b+(m**2*g/b**2-m*v0/b)*(np.exp(-b*tims/m)-1)\n",
    "vt = (b*v0 + g*m*np.exp(b*tims/m) - g*m)*np.exp(-b*tims/m)/b\n",
    "\n",
    "plt.subplot(1,2,1)\n",
    "plt.plot(tims, yt, 'b.')\n",
    "plt.xlabel('Time t [s]')\n",
    "plt.ylabel('y(t) [m]')\n",
    "\n",
    "plt.subplot(1,2,2)\n",
    "plt.plot(tims, vt, 'k')\n",
    "plt.xlabel('Time t [s]')\n",
    "plt.ylabel('v(t) [m/s]')\n",
    "\n",
    "plt.tight_layout()\n",
    "plt.show()"
   ]
  },
  {
   "cell_type": "code",
   "execution_count": null,
   "metadata": {},
   "outputs": [],
   "source": []
  },
  {
   "cell_type": "code",
   "execution_count": null,
   "metadata": {},
   "outputs": [],
   "source": []
  },
  {
   "cell_type": "code",
   "execution_count": null,
   "metadata": {},
   "outputs": [],
   "source": []
  },
  {
   "cell_type": "code",
   "execution_count": null,
   "metadata": {},
   "outputs": [],
   "source": []
  },
  {
   "cell_type": "code",
   "execution_count": null,
   "metadata": {},
   "outputs": [],
   "source": []
  },
  {
   "cell_type": "code",
   "execution_count": null,
   "metadata": {},
   "outputs": [],
   "source": []
  },
  {
   "cell_type": "code",
   "execution_count": null,
   "metadata": {},
   "outputs": [],
   "source": []
  },
  {
   "cell_type": "code",
   "execution_count": null,
   "metadata": {},
   "outputs": [],
   "source": []
  },
  {
   "cell_type": "code",
   "execution_count": null,
   "metadata": {},
   "outputs": [],
   "source": []
  },
  {
   "cell_type": "code",
   "execution_count": null,
   "metadata": {},
   "outputs": [],
   "source": []
  },
  {
   "cell_type": "code",
   "execution_count": null,
   "metadata": {},
   "outputs": [],
   "source": []
  },
  {
   "cell_type": "code",
   "execution_count": null,
   "metadata": {},
   "outputs": [],
   "source": []
  }
 ],
 "metadata": {
  "kernelspec": {
   "display_name": ".venv",
   "language": "python",
   "name": "python3"
  },
  "language_info": {
   "codemirror_mode": {
    "name": "ipython",
    "version": 3
   },
   "file_extension": ".py",
   "mimetype": "text/x-python",
   "name": "python",
   "nbconvert_exporter": "python",
   "pygments_lexer": "ipython3",
   "version": "3.11.2"
  }
 },
 "nbformat": 4,
 "nbformat_minor": 2
}
