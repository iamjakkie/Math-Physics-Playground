{
 "cells": [
  {
   "cell_type": "markdown",
   "metadata": {},
   "source": [
    "# The Chain Rule\n",
    "The electric field E describing a light wave from a single slit diffraction experiment can be written in terms of the diffraction angle θ as:\n",
    "$$E(\\theta) = E_0 \\frac{\\sin(b \\sin(\\theta))}{b \\sin(\\theta)}$$\n",
    "where $E_0$ is the maximum electric field and, $b$ is a dimensionless constant which depends on the experimental conditions. Calculate the derivative $dE/d\\theta$ by hand using the chain rule, and verify the results with SymPy. Use a numerical value of $E_0 = 1$ to simplify the calculations."
   ]
  },
  {
   "cell_type": "markdown",
   "metadata": {},
   "source": [
    "We define $u = b \\sin(\\theta)$ and function I becomes:\n",
    "$$I(u) = E_0 \\frac{\\sin(u)}{u}$$\n",
    "Using the chain rule:\n",
    "$$\\frac{dE}{d\\theta} = \\frac{dE}{du} \\frac{du}{d\\theta}$$\n",
    "Using the ratio rule:\n",
    "$$\\frac{dE}{du} = \\frac{d}{du} \\left(E_0\\frac{\\sin(u)}{u}\\right) = E_0 \\left(\\frac{u \\cos(u) - \\sin(u)}{u^2}\\right)$$\n",
    "$$\\frac{du}{d\\theta} = \\frac{d(b\\sin(\\theta))}{d\\theta} = bcos\\theta$$\n",
    "substituting the above results:\n",
    "$$\\frac{dE}{d\\theta} = E_0 \\left(\\frac{u \\cos(u) - \\sin(u)}{u^2}\\right) \\cdot bcos\\theta$$"
   ]
  },
  {
   "cell_type": "code",
   "execution_count": 1,
   "metadata": {},
   "outputs": [
    {
     "name": "stdout",
     "output_type": "stream",
     "text": [
      "Derivative of E field: cos(x)*cos(b*sin(x))/sin(x) - sin(b*sin(x))*cos(x)/(b*sin(x)**2)\n"
     ]
    }
   ],
   "source": [
    "from sympy import symbols, diff, sin\n",
    "\n",
    "x, b = symbols('x, b', real=True)\n",
    "x = diff(sin(b*sin(x))/(b*sin(x)), x)\n",
    "print(f\"Derivative of E field: {x}\")"
   ]
  },
  {
   "cell_type": "code",
   "execution_count": null,
   "metadata": {},
   "outputs": [],
   "source": []
  }
 ],
 "metadata": {
  "kernelspec": {
   "display_name": ".venv",
   "language": "python",
   "name": "python3"
  },
  "language_info": {
   "codemirror_mode": {
    "name": "ipython",
    "version": 3
   },
   "file_extension": ".py",
   "mimetype": "text/x-python",
   "name": "python",
   "nbconvert_exporter": "python",
   "pygments_lexer": "ipython3",
   "version": "3.11.2"
  }
 },
 "nbformat": 4,
 "nbformat_minor": 2
}
