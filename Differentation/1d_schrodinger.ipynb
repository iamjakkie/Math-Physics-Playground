{
 "cells": [
  {
   "cell_type": "markdown",
   "metadata": {},
   "source": [
    "# The 1D Schrodinger euqation\n",
    "\n",
    "The wave function of a SHO in Quantum Mechanics of mass $m$ and frequency $\\omega$ is: $$\\psi(x)=A e^{-\\frac{m\\omega}{2\\hbar}x^2}$$ where $A$ is the normalization constant of the wave function and $\\hbar$ is the reduced Planck constant.\n",
    "\n",
    "The position $x$ can vary anywhere along the $x$-axis.\n",
    "\n",
    "Show that this function is a soluton of the one-dimensional Schrodinger equation: $$-\\frac{\\hbar^2}{2m}\\frac{d^2\\psi}{dx^2}+\\frac{1}{2}m\\omega^2x^2\\psi=E\\psi$$ where $E$ is the energy of the system, $E = \\frac{\\hbar\\omega}{2}$ and $n$ is a non-negative integer."
   ]
  },
  {
   "cell_type": "markdown",
   "metadata": {},
   "source": [
    "$$\\frac{d\\psi}{dx}="
   ]
  },
  {
   "cell_type": "code",
   "execution_count": null,
   "metadata": {},
   "outputs": [],
   "source": []
  }
 ],
 "metadata": {
  "language_info": {
   "name": "python"
  }
 },
 "nbformat": 4,
 "nbformat_minor": 2
}
